{
 "cells": [
  {
   "cell_type": "markdown",
   "metadata": {},
   "source": [
    "# Align spike sequences in GISAID and count RBD mutations\n",
    "This Python Jupyter notebook reads in a file of all spike sequences from GISAID, parses for \"high-quality\" sequences, builds a RBD alignment, and then makes a file that gives the counts of each mutation at each site."
   ]
  },
  {
   "cell_type": "markdown",
   "metadata": {},
   "source": [
    "## Set up analysis\n",
    "Import Python modules:"
   ]
  },
  {
   "cell_type": "code",
   "execution_count": 1,
   "metadata": {},
   "outputs": [],
   "source": [
    "import io\n",
    "import lzma\n",
    "import os\n",
    "import re\n",
    "import subprocess\n",
    "\n",
    "from Bio.Data.IUPACData import protein_letters\n",
    "import Bio.SeqIO\n",
    "\n",
    "from IPython.display import display, HTML\n",
    "\n",
    "import matplotlib.pyplot as plt\n",
    "\n",
    "import pandas as pd\n",
    "\n",
    "from plotnine import *\n",
    "\n",
    "import yaml"
   ]
  },
  {
   "cell_type": "markdown",
   "metadata": {},
   "source": [
    "Read the configuration file:"
   ]
  },
  {
   "cell_type": "code",
   "execution_count": 2,
   "metadata": {},
   "outputs": [],
   "source": [
    "with open('config.yaml') as f:\n",
    "    config = yaml.safe_load(f)"
   ]
  },
  {
   "cell_type": "markdown",
   "metadata": {},
   "source": [
    "Create output directory:"
   ]
  },
  {
   "cell_type": "code",
   "execution_count": 3,
   "metadata": {},
   "outputs": [],
   "source": [
    "os.makedirs(config['gisaid_mutations_dir'], exist_ok=True)"
   ]
  },
  {
   "cell_type": "markdown",
   "metadata": {},
   "source": [
    "## Parse full-length human human spike sequences\n",
    "\n",
    "Read the spikes from the file downloaded from GISAID:"
   ]
  },
  {
   "cell_type": "code",
   "execution_count": 4,
   "metadata": {},
   "outputs": [
    {
     "name": "stdout",
     "output_type": "stream",
     "text": [
      "Reading GISAID spikes in data/spikeprot0206.fasta.tar.xz\n",
      "Read 436505 spike sequences.\n"
     ]
    }
   ],
   "source": [
    "print(f\"Reading GISAID spikes in {config['gisaid_spikes']}\")\n",
    "# file is `xz` compressed\n",
    "with lzma.open(config['gisaid_spikes'], 'rt') as f:\n",
    "    spikes = list(Bio.SeqIO.parse(f, 'fasta'))   \n",
    "print(f\"Read {len(spikes)} spike sequences.\")"
   ]
  },
  {
   "cell_type": "markdown",
   "metadata": {},
   "source": [
    "Make a data frame that has the BioPython SeqRecord, length, host, and geographic location (country) for each spike.\n",
    "Also determine whether sequences have ambiguous amino acids or are all valid amino acids:"
   ]
  },
  {
   "cell_type": "code",
   "execution_count": 5,
   "metadata": {},
   "outputs": [],
   "source": [
    "spikes_df = (\n",
    "    pd.DataFrame({'seqrecord': spikes})\n",
    "    .assign(description=lambda x: x['seqrecord'].map(lambda rec: rec.description),\n",
    "            country=lambda x: x['description'].str.split('|').str[-1],\n",
    "            host=lambda x: x['description'].str.split('|').str[6].str.strip(),\n",
    "            length=lambda x: x['seqrecord'].map(len),\n",
    "            n_ambiguous=lambda x: x['seqrecord'].map(lambda rec: rec.seq.count('X') + rec.seq.count('x')),\n",
    "            )\n",
    "    )"
   ]
  },
  {
   "cell_type": "markdown",
   "metadata": {},
   "source": [
    "Show number of sequences from different hosts, then keep only human ones:"
   ]
  },
  {
   "cell_type": "code",
   "execution_count": 6,
   "metadata": {},
   "outputs": [
    {
     "data": {
      "text/html": [
       "<table border=\"1\" class=\"dataframe\">\n",
       "  <thead>\n",
       "    <tr style=\"text-align: right;\">\n",
       "      <th></th>\n",
       "      <th>n_sequences</th>\n",
       "    </tr>\n",
       "    <tr>\n",
       "      <th>host</th>\n",
       "      <th></th>\n",
       "    </tr>\n",
       "  </thead>\n",
       "  <tbody>\n",
       "    <tr>\n",
       "      <th>Human</th>\n",
       "      <td>435502</td>\n",
       "    </tr>\n",
       "    <tr>\n",
       "      <th>Neovison vison</th>\n",
       "      <td>755</td>\n",
       "    </tr>\n",
       "    <tr>\n",
       "      <th>Environment</th>\n",
       "      <td>170</td>\n",
       "    </tr>\n",
       "    <tr>\n",
       "      <th>Felis catus</th>\n",
       "      <td>20</td>\n",
       "    </tr>\n",
       "    <tr>\n",
       "      <th>Manis javanica</th>\n",
       "      <td>18</td>\n",
       "    </tr>\n",
       "    <tr>\n",
       "      <th>Mustela lutreola</th>\n",
       "      <td>13</td>\n",
       "    </tr>\n",
       "    <tr>\n",
       "      <th>Canis lupus familiaris</th>\n",
       "      <td>10</td>\n",
       "    </tr>\n",
       "    <tr>\n",
       "      <th>Panthera tigris jacksoni</th>\n",
       "      <td>6</td>\n",
       "    </tr>\n",
       "    <tr>\n",
       "      <th>Panthera leo</th>\n",
       "      <td>4</td>\n",
       "    </tr>\n",
       "    <tr>\n",
       "      <th>Rhinolophus malayanus</th>\n",
       "      <td>2</td>\n",
       "    </tr>\n",
       "    <tr>\n",
       "      <th>Chlorocebus sabaeus</th>\n",
       "      <td>1</td>\n",
       "    </tr>\n",
       "    <tr>\n",
       "      <th>Gorilla Gorilla Gorilla</th>\n",
       "      <td>1</td>\n",
       "    </tr>\n",
       "    <tr>\n",
       "      <th>Manis pentadactyla</th>\n",
       "      <td>1</td>\n",
       "    </tr>\n",
       "    <tr>\n",
       "      <th>Mus musculus</th>\n",
       "      <td>1</td>\n",
       "    </tr>\n",
       "    <tr>\n",
       "      <th>Rhinolophus affinis</th>\n",
       "      <td>1</td>\n",
       "    </tr>\n",
       "  </tbody>\n",
       "</table>"
      ],
      "text/plain": [
       "<IPython.core.display.HTML object>"
      ]
     },
     "metadata": {},
     "output_type": "display_data"
    }
   ],
   "source": [
    "display(HTML(\n",
    "    spikes_df\n",
    "    .groupby('host')\n",
    "    .aggregate(n_sequences=pd.NamedAgg('seqrecord', 'count'))\n",
    "    .sort_values('n_sequences', ascending=False)\n",
    "    .to_html()\n",
    "    ))\n",
    "\n",
    "spikes_df = spikes_df.query('host == \"Human\"')"
   ]
  },
  {
   "cell_type": "markdown",
   "metadata": {},
   "source": [
    "Plot distribution of lengths and only keep sequences that are full-length (or near full-length) spikes:"
   ]
  },
  {
   "cell_type": "code",
   "execution_count": 7,
   "metadata": {},
   "outputs": [
    {
     "name": "stdout",
     "output_type": "stream",
     "text": [
      "Distribution of length for all spikes:\n"
     ]
    },
    {
     "data": {
      "image/png": "[encoded data removed]",
      "text/plain": [
       "<Figure size 1000x200 with 1 Axes>"
      ]
     },
     "metadata": {},
     "output_type": "display_data"
    },
    {
     "name": "stdout",
     "output_type": "stream",
     "text": [
      "\n",
      "Only keeping spikes with lengths between 1260 and 1276\n",
      "Here are number of sequences with valid and invalid lengths:\n"
     ]
    },
    {
     "data": {
      "text/html": [
       "<table border=\"1\" class=\"dataframe\">\n",
       "  <thead>\n",
       "    <tr style=\"text-align: right;\">\n",
       "      <th></th>\n",
       "      <th>n_sequences</th>\n",
       "    </tr>\n",
       "    <tr>\n",
       "      <th>valid_length</th>\n",
       "      <th></th>\n",
       "    </tr>\n",
       "  </thead>\n",
       "  <tbody>\n",
       "    <tr>\n",
       "      <th>False</th>\n",
       "      <td>858</td>\n",
       "    </tr>\n",
       "    <tr>\n",
       "      <th>True</th>\n",
       "      <td>434644</td>\n",
       "    </tr>\n",
       "  </tbody>\n",
       "</table>"
      ],
      "text/plain": [
       "<IPython.core.display.HTML object>"
      ]
     },
     "metadata": {},
     "output_type": "display_data"
    },
    {
     "name": "stdout",
     "output_type": "stream",
     "text": [
      "\n",
      "Distribution of lengths for sequences with valid and invalid lengths; dotted red lines delimit valid lengths:\n"
     ]
    },
    {
     "data": {
      "image/png": "[encoded data removed]",
      "text/plain": [
       "<Figure size 1000x200 with 2 Axes>"
      ]
     },
     "metadata": {},
     "output_type": "display_data"
    }
   ],
   "source": [
    "print('Distribution of length for all spikes:')\n",
    "p = (ggplot(spikes_df) +\n",
    "     aes('length') +\n",
    "     geom_bar() +\n",
    "     ylab('number of sequences') +\n",
    "     theme(figure_size=(10, 2))\n",
    "     )\n",
    "fig = p.draw()\n",
    "display(fig)\n",
    "plt.close(fig)\n",
    "\n",
    "min_length, max_length = 1260, 1276\n",
    "print(f\"\\nOnly keeping spikes with lengths between {min_length} and {max_length}\")\n",
    "spikes_df = (\n",
    "    spikes_df\n",
    "    .assign(valid_length=lambda x: (min_length <= x['length']) & (x['length'] <= max_length))\n",
    "    )\n",
    "\n",
    "print('Here are number of sequences with valid and invalid lengths:')\n",
    "display(HTML(spikes_df\n",
    "             .groupby('valid_length')\n",
    "             .aggregate(n_sequences=pd.NamedAgg('seqrecord', 'count'))\n",
    "             .to_html()\n",
    "             ))\n",
    "\n",
    "print('\\nDistribution of lengths for sequences with valid and invalid lengths; '\n",
    "      'dotted red lines delimit valid lengths:')\n",
    "p = (ggplot(spikes_df\n",
    "            .assign(valid_length=lambda x: x['valid_length'].map({True: 'valid length',\n",
    "                                                                  False: 'invalid length'}))\n",
    "            ) +\n",
    "     aes('length') +\n",
    "     geom_bar() +\n",
    "     ylab('number of sequences') +\n",
    "     theme(figure_size=(10, 2), subplots_adjust={'wspace': 0.2}) +\n",
    "     facet_wrap('~ valid_length', scales='free') +\n",
    "     geom_vline(xintercept=min_length - 0.5, color='red', linetype='dotted') +\n",
    "     geom_vline(xintercept=max_length + 0.5, color='red', linetype='dotted')\n",
    "     )\n",
    "fig = p.draw()\n",
    "display(fig)\n",
    "plt.close(fig)\n",
    "\n",
    "spikes_df = spikes_df.query('valid_length')"
   ]
  },
  {
   "cell_type": "markdown",
   "metadata": {},
   "source": [
    "Finally, we get rid of spikes with **lots** of ambiguous residues as they may hinder the alignment below.\n",
    "We will then do more detailed filtering for ambiguous residues just in the RBD region after alignment:"
   ]
  },
  {
   "cell_type": "code",
   "execution_count": 8,
   "metadata": {},
   "outputs": [
    {
     "name": "stdout",
     "output_type": "stream",
     "text": [
      "Filtering sequences with > 100 ambiguous residues\n"
     ]
    },
    {
     "data": {
      "text/html": [
       "<table border=\"1\" class=\"dataframe\">\n",
       "  <thead>\n",
       "    <tr style=\"text-align: right;\">\n",
       "      <th></th>\n",
       "      <th>n_sequences</th>\n",
       "    </tr>\n",
       "    <tr>\n",
       "      <th>excess_ambiguous</th>\n",
       "      <th></th>\n",
       "    </tr>\n",
       "  </thead>\n",
       "  <tbody>\n",
       "    <tr>\n",
       "      <th>False</th>\n",
       "      <td>418303</td>\n",
       "    </tr>\n",
       "    <tr>\n",
       "      <th>True</th>\n",
       "      <td>16341</td>\n",
       "    </tr>\n",
       "  </tbody>\n",
       "</table>"
      ],
      "text/plain": [
       "<IPython.core.display.HTML object>"
      ]
     },
     "metadata": {},
     "output_type": "display_data"
    }
   ],
   "source": [
    "max_ambiguous = 100\n",
    "print(f\"Filtering sequences with > {max_ambiguous} ambiguous residues\")\n",
    "spikes_df = (\n",
    "    spikes_df\n",
    "    .assign(excess_ambiguous=lambda x: x['n_ambiguous'] > max_ambiguous)\n",
    "    )\n",
    "display(HTML(\n",
    "    spikes_df\n",
    "    .groupby('excess_ambiguous')\n",
    "    .aggregate(n_sequences=pd.NamedAgg('seqrecord', 'count'))\n",
    "    .to_html()\n",
    "    ))"
   ]
  },
  {
   "cell_type": "markdown",
   "metadata": {},
   "source": [
    "## Align the RBD region of the spikes\n",
    "We now align the RBD regions of the spikes.\n",
    "We do this **before** we filter sequences with too many ambiguous residues so that we can do that filtering just on the RBD region.\n",
    "\n",
    "We align with `mafft` using the `--addfragments` and `--keeplength` options (see [here](https://mafft.cbrc.jp/alignment/software/closelyrelatedviralgenomes.html) and [here](https://mafft.cbrc.jp/alignment/software/addsequences.html)) to align relative to a reference that is just the RBD; these options also clip the sequences relative to the reference.\n",
    "Note that these options make sense if the following conditions are met:\n",
    "  1. Sequences are all very similar.\n",
    "  2. We are not worried about insertions.\n",
    "For now, both of these appear to be true, but this choice should be kept in mind if there is a lot more divergence or insertions.\n",
    "\n",
    "We align relative to the reference that is the wildtype sequence used for the experiments:"
   ]
  },
  {
   "cell_type": "code",
   "execution_count": 9,
   "metadata": {},
   "outputs": [
    {
     "name": "stdout",
     "output_type": "stream",
     "text": [
      "Reading reference nucleotide sequence in data/wildtype_sequence.fasta\n",
      "Writing protein translation of reference sequence to results/GISAID_mutations/reference_RBD.fasta\n"
     ]
    }
   ],
   "source": [
    "print(f\"Reading reference nucleotide sequence in {config['wildtype_sequence']}\")\n",
    "refseq = Bio.SeqIO.read(config['wildtype_sequence'], 'fasta')\n",
    "\n",
    "refprotfile = os.path.join(config['gisaid_mutations_dir'], 'reference_RBD.fasta')\n",
    "print(f\"Writing protein translation of reference sequence to {refprotfile}\")\n",
    "refseq.seq = refseq.seq.translate()\n",
    "_ = Bio.SeqIO.write(refseq, refprotfile, 'fasta')"
   ]
  },
  {
   "cell_type": "markdown",
   "metadata": {},
   "source": [
    "Write all the other spikes to a file:"
   ]
  },
  {
   "cell_type": "code",
   "execution_count": 10,
   "metadata": {},
   "outputs": [
    {
     "name": "stdout",
     "output_type": "stream",
     "text": [
      "Writing the spikes to results/GISAID_mutations/human_full-length_spikes.fasta\n"
     ]
    }
   ],
   "source": [
    "spikes_file = os.path.join(config['gisaid_mutations_dir'],\n",
    "                           'human_full-length_spikes.fasta')\n",
    "print(f\"Writing the spikes to {spikes_file}\")\n",
    "_ = Bio.SeqIO.write(spikes_df['seqrecord'].tolist(), spikes_file, 'fasta')"
   ]
  },
  {
   "cell_type": "markdown",
   "metadata": {},
   "source": [
    "Now make the alignment.\n",
    "Note that we use multiple threads to speed things up, and also align the spikes in chunks.\n",
    "The reason that we have to the chunkwise alignment is that some unclear `mafft` error was arising if we tried to align them all at once:"
   ]
  },
  {
   "cell_type": "code",
   "execution_count": 11,
   "metadata": {},
   "outputs": [
    {
     "name": "stdout",
     "output_type": "stream",
     "text": [
      "Writing spikes 1 to 50000 to results/GISAID_mutations/human_full-length_spikes_1-to-50000.fasta\n",
      "Now aligning these sequences...\n",
      "Alignment complete.\n",
      "\n",
      "Writing spikes 50001 to 100000 to results/GISAID_mutations/human_full-length_spikes_50001-to-100000.fasta\n",
      "Now aligning these sequences...\n",
      "Alignment complete.\n",
      "\n",
      "Writing spikes 100001 to 150000 to results/GISAID_mutations/human_full-length_spikes_100001-to-150000.fasta\n",
      "Now aligning these sequences...\n",
      "Alignment complete.\n",
      "\n",
      "Writing spikes 150001 to 200000 to results/GISAID_mutations/human_full-length_spikes_150001-to-200000.fasta\n",
      "Now aligning these sequences...\n",
      "Alignment complete.\n",
      "\n",
      "Writing spikes 200001 to 250000 to results/GISAID_mutations/human_full-length_spikes_200001-to-250000.fasta\n",
      "Now aligning these sequences...\n",
      "Alignment complete.\n",
      "\n",
      "Writing spikes 250001 to 300000 to results/GISAID_mutations/human_full-length_spikes_250001-to-300000.fasta\n",
      "Now aligning these sequences...\n",
      "Alignment complete.\n",
      "\n",
      "Writing spikes 300001 to 350000 to results/GISAID_mutations/human_full-length_spikes_300001-to-350000.fasta\n",
      "Now aligning these sequences...\n",
      "Alignment complete.\n",
      "\n",
      "Writing spikes 350001 to 400000 to results/GISAID_mutations/human_full-length_spikes_350001-to-400000.fasta\n",
      "Now aligning these sequences...\n",
      "Alignment complete.\n",
      "\n",
      "Writing spikes 400001 to 450000 to results/GISAID_mutations/human_full-length_spikes_400001-to-450000.fasta\n",
      "Now aligning these sequences...\n",
      "Alignment complete.\n",
      "\n"
     ]
    }
   ],
   "source": [
    "chunksize = 50000\n",
    "\n",
    "aligned_rbds = []\n",
    "\n",
    "for i in range(0, len(spikes_df), chunksize):\n",
    "    spikes_file = os.path.join(config['gisaid_mutations_dir'],\n",
    "                               f\"human_full-length_spikes_{i + 1}-to-{i + chunksize}.fasta\")\n",
    "    print(f\"Writing spikes {i + 1} to {i + chunksize} to {spikes_file}\")\n",
    "    _ = Bio.SeqIO.write(spikes_df['seqrecord'].tolist()[i: i + chunksize], spikes_file, 'fasta')\n",
    "    print('Now aligning these sequences...')\n",
    "    cmds = ['mafft', '--auto', '--thread', str(config['max_cpus']),\n",
    "            '--keeplength', '--addfragments', spikes_file, refprotfile]\n",
    "    res = subprocess.run(cmds, capture_output=True)\n",
    "    if res.returncode:\n",
    "        raise RuntimeError(f\"Error in alignment:\\n{res.stderr}\")\n",
    "    else:\n",
    "        print('Alignment complete.\\n')\n",
    "        with io.StringIO(res.stdout.decode('utf-8')) as f:\n",
    "            iseqs = list(Bio.SeqIO.parse(f, 'fasta'))\n",
    "            # remove reference sequence, which should be first in file\n",
    "            assert iseqs[0].seq == refseq.seq and iseqs[0].description == refseq.description\n",
    "            iseqs = iseqs[1:]\n",
    "            assert len(iseqs) == min(chunksize, len(spikes_df) - i)\n",
    "            aligned_rbds += iseqs\n",
    "            \n",
    "assert len(aligned_rbds) == len(spikes_df)"
   ]
  },
  {
   "cell_type": "markdown",
   "metadata": {},
   "source": [
    "## Parse / filter aligned RBDs\n",
    "\n",
    "Now put all of the aligned RBDs into a data frame to filter and parse:"
   ]
  },
  {
   "cell_type": "code",
   "execution_count": 12,
   "metadata": {},
   "outputs": [],
   "source": [
    "rbd_df = (\n",
    "    pd.DataFrame({'seqrecord': aligned_rbds})\n",
    "    .assign(description=lambda x: x['seqrecord'].map(lambda rec: rec.description),\n",
    "            country=lambda x: x['description'].str.split('|').str[-1],\n",
    "            host=lambda x: x['description'].str.split('|').str[6].str.strip(),\n",
    "            length=lambda x: x['seqrecord'].map(len),\n",
    "            n_ambiguous=lambda x: x['seqrecord'].map(lambda rec: rec.seq.count('X') + rec.seq.count('x')),\n",
    "            n_gaps=lambda x: x['seqrecord'].map(lambda rec: rec.seq.count('-')),\n",
    "            all_valid_aas=lambda x: x['seqrecord'].map(lambda rec: re.fullmatch(f\"[{protein_letters}]+\",\n",
    "                                                                                str(rec.seq)) is not None),\n",
    "            )\n",
    "    )\n",
    "\n",
    "assert all(rbd_df['length'] == len(refseq))"
   ]
  },
  {
   "cell_type": "markdown",
   "metadata": {},
   "source": [
    "Plot number of gaps and ambiguous nucleotides among sequences:"
   ]
  },
  {
   "cell_type": "code",
   "execution_count": 13,
   "metadata": {},
   "outputs": [
    {
     "data": {
      "image/png": "[encoded data removed]",
      "text/plain": [
       "<Figure size 1000x250 with 1 Axes>"
      ]
     },
     "metadata": {},
     "output_type": "display_data"
    },
    {
     "data": {
      "image/png": "[encoded data removed]",
      "text/plain": [
       "<Figure size 1000x250 with 1 Axes>"
      ]
     },
     "metadata": {},
     "output_type": "display_data"
    }
   ],
   "source": [
    "for prop in ['n_ambiguous', 'n_gaps']:\n",
    "    p = (ggplot(rbd_df) +\n",
    "         aes(prop) +\n",
    "         ylab('number of sequences') +\n",
    "         theme(figure_size=(10, 2.5)) +\n",
    "         geom_bar()\n",
    "         )\n",
    "    _ = p.draw()"
   ]
  },
  {
   "cell_type": "markdown",
   "metadata": {},
   "source": [
    "Based on above plots, we will retain just RBDs with no ambiguous amino acids and no gaps:"
   ]
  },
  {
   "cell_type": "code",
   "execution_count": 14,
   "metadata": {},
   "outputs": [
    {
     "name": "stdout",
     "output_type": "stream",
     "text": [
      "Retained 405718 RBDs.\n"
     ]
    }
   ],
   "source": [
    "rbd_df = rbd_df.query('n_ambiguous == 0').query('n_gaps == 0')\n",
    "assert rbd_df['all_valid_aas'].all()\n",
    "print(f\"Retained {len(rbd_df)} RBDs.\")"
   ]
  },
  {
   "cell_type": "markdown",
   "metadata": {},
   "source": [
    "Now get and plot the number of amino-acid mutations per RBD relative to the reference sequence, plotting on both a linear and log scale.\n",
    "We then filter all RBDs that have more than some maximum number of mutations, based on the idea that ones that are extremely highly mutated probably are erroneous.\n",
    "**Note that this maximum number of mutations will change over time, so should be re-assessed periodically by looking at below plots.**"
   ]
  },
  {
   "cell_type": "code",
   "execution_count": 15,
   "metadata": {},
   "outputs": [
    {
     "data": {
      "image/png": "[encoded data removed]",
      "text/plain": [
       "<Figure size 1000x250 with 1 Axes>"
      ]
     },
     "metadata": {},
     "output_type": "display_data"
    },
    {
     "data": {
      "image/png": "[encoded data removed]",
      "text/plain": [
       "<Figure size 1000x250 with 1 Axes>"
      ]
     },
     "metadata": {},
     "output_type": "display_data"
    }
   ],
   "source": [
    "max_muts = 8\n",
    "\n",
    "refseq_str = str(refseq.seq)\n",
    "rbd_df = (\n",
    "    rbd_df\n",
    "    .assign(seq=lambda x: x['seqrecord'].map(lambda rec: str(rec.seq)),\n",
    "            n_mutations=lambda x: x['seq'].map(lambda s: sum(x != y for x, y in zip(s, refseq_str))))\n",
    "    )\n",
    "\n",
    "p = (ggplot(rbd_df) +\n",
    "     aes('n_mutations') +\n",
    "     geom_bar() +\n",
    "     theme(figure_size=(10, 2.5)) +\n",
    "     geom_vline(xintercept=max_muts + 0.5, color='red', linetype='dotted')\n",
    "     )\n",
    "_ = p.draw()\n",
    "_ = (p + scale_y_log10()).draw()\n",
    "\n",
    "rbd_df = rbd_df.query('n_mutations <= @max_muts')"
   ]
  },
  {
   "cell_type": "markdown",
   "metadata": {},
   "source": [
    "Write RBD sequences that pass filtering to a file:"
   ]
  },
  {
   "cell_type": "code",
   "execution_count": 16,
   "metadata": {},
   "outputs": [
    {
     "name": "stdout",
     "output_type": "stream",
     "text": [
      "Overall, there are 405692 aligned RBDs that passed filters.\n",
      "Writing alignment to results/GISAID_mutations/RBD_alignment.fasta\n"
     ]
    }
   ],
   "source": [
    "print(f\"Overall, there are {len(rbd_df)} aligned RBDs that passed filters.\")\n",
    "\n",
    "rbd_alignment_file = os.path.join(config['gisaid_mutations_dir'], 'RBD_alignment.fasta')\n",
    "print(f\"Writing alignment to {rbd_alignment_file}\")\n",
    "_ = Bio.SeqIO.write(rbd_df['seqrecord'].tolist(), rbd_alignment_file, 'fasta')"
   ]
  },
  {
   "cell_type": "markdown",
   "metadata": {},
   "source": [
    "## Get counts of each mutation\n",
    "Now we get a data frame that gives the count of each mutation at each site:"
   ]
  },
  {
   "cell_type": "code",
   "execution_count": 17,
   "metadata": {},
   "outputs": [
    {
     "name": "stdout",
     "output_type": "stream",
     "text": [
      "Here are first few lines of mutation counts data frame:\n"
     ]
    },
    {
     "data": {
      "text/html": [
       "<table border=\"1\" class=\"dataframe\">\n",
       "  <thead>\n",
       "    <tr style=\"text-align: right;\">\n",
       "      <th>isite</th>\n",
       "      <th>site</th>\n",
       "      <th>wildtype</th>\n",
       "      <th>mutant</th>\n",
       "      <th>count</th>\n",
       "      <th>n_countries</th>\n",
       "      <th>frequency</th>\n",
       "    </tr>\n",
       "  </thead>\n",
       "  <tbody>\n",
       "    <tr>\n",
       "      <td>171</td>\n",
       "      <td>501</td>\n",
       "      <td>N</td>\n",
       "      <td>Y</td>\n",
       "      <td>37896</td>\n",
       "      <td>76</td>\n",
       "      <td>0.093411</td>\n",
       "    </tr>\n",
       "    <tr>\n",
       "      <td>147</td>\n",
       "      <td>477</td>\n",
       "      <td>S</td>\n",
       "      <td>N</td>\n",
       "      <td>20638</td>\n",
       "      <td>89</td>\n",
       "      <td>0.050871</td>\n",
       "    </tr>\n",
       "    <tr>\n",
       "      <td>109</td>\n",
       "      <td>439</td>\n",
       "      <td>N</td>\n",
       "      <td>K</td>\n",
       "      <td>7403</td>\n",
       "      <td>58</td>\n",
       "      <td>0.018248</td>\n",
       "    </tr>\n",
       "    <tr>\n",
       "      <td>122</td>\n",
       "      <td>452</td>\n",
       "      <td>L</td>\n",
       "      <td>R</td>\n",
       "      <td>1503</td>\n",
       "      <td>36</td>\n",
       "      <td>0.003705</td>\n",
       "    </tr>\n",
       "    <tr>\n",
       "      <td>154</td>\n",
       "      <td>484</td>\n",
       "      <td>E</td>\n",
       "      <td>K</td>\n",
       "      <td>1134</td>\n",
       "      <td>47</td>\n",
       "      <td>0.002795</td>\n",
       "    </tr>\n",
       "    <tr>\n",
       "      <td>123</td>\n",
       "      <td>453</td>\n",
       "      <td>Y</td>\n",
       "      <td>F</td>\n",
       "      <td>1032</td>\n",
       "      <td>9</td>\n",
       "      <td>0.002544</td>\n",
       "    </tr>\n",
       "    <tr>\n",
       "      <td>190</td>\n",
       "      <td>520</td>\n",
       "      <td>A</td>\n",
       "      <td>S</td>\n",
       "      <td>740</td>\n",
       "      <td>38</td>\n",
       "      <td>0.001824</td>\n",
       "    </tr>\n",
       "    <tr>\n",
       "      <td>87</td>\n",
       "      <td>417</td>\n",
       "      <td>K</td>\n",
       "      <td>N</td>\n",
       "      <td>627</td>\n",
       "      <td>28</td>\n",
       "      <td>0.001546</td>\n",
       "    </tr>\n",
       "    <tr>\n",
       "      <td>164</td>\n",
       "      <td>494</td>\n",
       "      <td>S</td>\n",
       "      <td>P</td>\n",
       "      <td>573</td>\n",
       "      <td>23</td>\n",
       "      <td>0.001412</td>\n",
       "    </tr>\n",
       "    <tr>\n",
       "      <td>171</td>\n",
       "      <td>501</td>\n",
       "      <td>N</td>\n",
       "      <td>T</td>\n",
       "      <td>492</td>\n",
       "      <td>30</td>\n",
       "      <td>0.001213</td>\n",
       "    </tr>\n",
       "    <tr>\n",
       "      <td>147</td>\n",
       "      <td>477</td>\n",
       "      <td>S</td>\n",
       "      <td>R</td>\n",
       "      <td>362</td>\n",
       "      <td>13</td>\n",
       "      <td>0.000892</td>\n",
       "    </tr>\n",
       "    <tr>\n",
       "      <td>37</td>\n",
       "      <td>367</td>\n",
       "      <td>V</td>\n",
       "      <td>F</td>\n",
       "      <td>295</td>\n",
       "      <td>33</td>\n",
       "      <td>0.000727</td>\n",
       "    </tr>\n",
       "    <tr>\n",
       "      <td>54</td>\n",
       "      <td>384</td>\n",
       "      <td>P</td>\n",
       "      <td>L</td>\n",
       "      <td>294</td>\n",
       "      <td>24</td>\n",
       "      <td>0.000725</td>\n",
       "    </tr>\n",
       "    <tr>\n",
       "      <td>192</td>\n",
       "      <td>522</td>\n",
       "      <td>A</td>\n",
       "      <td>S</td>\n",
       "      <td>270</td>\n",
       "      <td>32</td>\n",
       "      <td>0.000666</td>\n",
       "    </tr>\n",
       "    <tr>\n",
       "      <td>192</td>\n",
       "      <td>522</td>\n",
       "      <td>A</td>\n",
       "      <td>V</td>\n",
       "      <td>251</td>\n",
       "      <td>30</td>\n",
       "      <td>0.000619</td>\n",
       "    </tr>\n",
       "  </tbody>\n",
       "</table>"
      ],
      "text/plain": [
       "<IPython.core.display.HTML object>"
      ]
     },
     "metadata": {},
     "output_type": "display_data"
    }
   ],
   "source": [
    "records = []\n",
    "for tup in rbd_df[['seq', 'country']].itertuples():\n",
    "    for isite, (mut, wt) in enumerate(zip(tup.seq, refseq_str), start=1):\n",
    "        if mut != wt:\n",
    "            records.append((isite, isite + config['site_number_offset'], wt, mut, tup.country))\n",
    "            \n",
    "muts_df = (pd.DataFrame.from_records(records,\n",
    "                                     columns=['isite', 'site', 'wildtype', 'mutant', 'country'])\n",
    "           .groupby(['isite', 'site', 'wildtype', 'mutant'])\n",
    "           .aggregate(count=pd.NamedAgg('country', 'count'),\n",
    "                      n_countries=pd.NamedAgg('country', 'nunique'))\n",
    "           .reset_index()\n",
    "           .sort_values('count', ascending=False)\n",
    "           .assign(frequency=lambda x: x['count'] / len(rbd_df))\n",
    "           )\n",
    "\n",
    "print('Here are first few lines of mutation counts data frame:')\n",
    "display(HTML(muts_df.head(n=15).to_html(index=False)))"
   ]
  },
  {
   "cell_type": "markdown",
   "metadata": {},
   "source": [
    "Plot how many mutations are observed how many times:"
   ]
  },
  {
   "cell_type": "code",
   "execution_count": 18,
   "metadata": {},
   "outputs": [
    {
     "data": {
      "image/png": "[encoded data removed]",
      "text/plain": [
       "<Figure size 640x480 with 1 Axes>"
      ]
     },
     "metadata": {},
     "output_type": "display_data"
    }
   ],
   "source": [
    "p = (ggplot(muts_df) +\n",
    "     aes('count') +\n",
    "     geom_histogram(bins=20) +\n",
    "     scale_x_log10() +\n",
    "     ylab('number of sequences') +\n",
    "     xlab('times mutation observed')\n",
    "     )\n",
    "\n",
    "_ = p.draw()"
   ]
  },
  {
   "cell_type": "markdown",
   "metadata": {},
   "source": [
    "Write the mutation counts to a file:"
   ]
  },
  {
   "cell_type": "code",
   "execution_count": 19,
   "metadata": {},
   "outputs": [
    {
     "name": "stdout",
     "output_type": "stream",
     "text": [
      "Writing mutation counts to results/GISAID_mutations\n"
     ]
    }
   ],
   "source": [
    "print(f\"Writing mutation counts to {config['gisaid_mutations_dir']}\")\n",
    "muts_df.to_csv(config['gisaid_mutation_counts'], index=False)"
   ]
  }
 ],
 "metadata": {
  "language_info": {
   "name": "python"
  }
 },
 "nbformat": 4,
 "nbformat_minor": 4
}
